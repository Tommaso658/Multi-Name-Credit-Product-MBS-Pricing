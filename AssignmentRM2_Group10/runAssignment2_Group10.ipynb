{
 "cells": [
  {
   "cell_type": "markdown",
   "metadata": {},
   "source": [
    "# Mathematical Engineering - Financial Engineering, FY 2024-2025\n",
    "# Risk Management - Exercise 2: Corporate Bond Portfolio"
   ]
  },
  {
   "cell_type": "code",
   "metadata": {
    "ExecuteTime": {
     "end_time": "2025-03-21T06:33:17.061669Z",
     "start_time": "2025-03-21T06:33:17.047260Z"
    }
   },
   "source": [
    "# Importing the libraries\n",
    "### !!! IMPORT USEFUL LIBRARIES HERE !!! ###\n",
    "%load_ext autoreload\n",
    "%autoreload 2\n",
    "\n",
    "from scipy.optimize import fsolve\n",
    "import matplotlib.pyplot as plt\n",
    "import pandas as pd\n",
    "import numpy as np\n",
    "from ex1_utilities import business_date_offset, year_frac_act_x, date_series\n",
    "from ex2_utilities import (\n",
    "    constant_intensity_from_bond,\n",
    "    defaultable_bond_dirty_price_from_z_spread,\n",
    "    piece_wise_constant_intensity_from_bonds,\n",
    "\n",
    ")\n",
    "from bootstrap import bootstrap\n",
    "import datetime as dt\n",
    "from utilities import read_mat_file_dates\n",
    "from utilities import read_mat_file_rates\n",
    "from utilities import convert_date_to_string\n"
   ],
   "outputs": [
    {
     "name": "stdout",
     "output_type": "stream",
     "text": [
      "The autoreload extension is already loaded. To reload it, use:\n",
      "  %reload_ext autoreload\n"
     ]
    }
   ],
   "execution_count": 13
  },
  {
   "cell_type": "code",
   "metadata": {
    "ExecuteTime": {
     "end_time": "2025-03-21T06:33:18.734360Z",
     "start_time": "2025-03-21T06:33:18.703685Z"
    }
   },
   "source": [
    "# !!! READ MARKET AND BOOTSTRAP DATA !!!\n",
    "datesSet = read_mat_file_dates(\"datesSet.mat\")\n",
    "datesSetNew = {\"settlement\":convert_date_to_string(datesSet[\"settlement\"]), \"depos\": convert_date_to_string(datesSet[\"depos\"]),\n",
    "               \"futures_settlement\": convert_date_to_string(datesSet[\"futures_settlement\"]), \"futures_expiry\": convert_date_to_string(datesSet[\"futures_scadenza\"]),\n",
    "               \"swaps\": convert_date_to_string(datesSet[\"swaps\"])}\n",
    "ratesSet = read_mat_file_rates(\"ratesSet.mat\")\n",
    "[dates, discounts] = bootstrap(datesSetNew,ratesSet)\n",
    "discounts = [1] +  discounts\n",
    "dates = datesSetNew[\"settlement\"] + dates\n",
    "dates = [dt.datetime.strptime(date, \"%Y-%m-%d\") for date in dates]\n",
    "today = dates[0]\n",
    "discount_factors = discounts"
   ],
   "outputs": [],
   "execution_count": 14
  },
  {
   "cell_type": "code",
   "metadata": {
    "ExecuteTime": {
     "end_time": "2025-03-21T06:33:21.045581Z",
     "start_time": "2025-03-21T06:33:21.033725Z"
    }
   },
   "source": [
    "# Parameters\n",
    "maturity1 = 1  # Maturity in years\n",
    "maturity2 = 2\n",
    "notional1 = 1e7\n",
    "notional2 = 1e7\n",
    "coupon_rate1 = 0.05\n",
    "coupon_rate2 = 0.06\n",
    "coupon_freq1 = 2  # Coupon frequency in payments a years\n",
    "coupon_freq2 = 2\n",
    "dirty_price1 = 1.00\n",
    "dirty_price2 = 1.02\n",
    "\n",
    "rating = \"IG\"  # Credit rating\n",
    "\n",
    "expiry1 = business_date_offset(today, year_offset=maturity1)\n",
    "expiry2 = business_date_offset(today, year_offset=maturity2)"
   ],
   "outputs": [],
   "execution_count": 15
  },
  {
   "cell_type": "code",
   "metadata": {
    "ExecuteTime": {
     "end_time": "2025-03-21T06:33:22.761416Z",
     "start_time": "2025-03-21T06:33:22.745291Z"
    }
   },
   "source": [
    "# Q1: Derive the average intensity for the two bonds\n",
    "recovery_rate = 0.3\n",
    "\n",
    "\n",
    "h_1y = constant_intensity_from_bond(today,\n",
    "    expiry1,\n",
    "    coupon_rate1,\n",
    "    coupon_freq1,\n",
    "    dates,\n",
    "    discount_factors,\n",
    "    dirty_price1,\n",
    "    recovery_rate,0)\n",
    "\n",
    "h_2y = constant_intensity_from_bond(today,\n",
    "    expiry2,\n",
    "    coupon_rate2,\n",
    "    coupon_freq2,\n",
    "    dates,\n",
    "    discount_factors,\n",
    "    dirty_price2,\n",
    "    recovery_rate,0)\n",
    "\n",
    "\n",
    "\n",
    "print(f\"Average intensity over {maturity1}y: {h_1y[0]:.6%}\")\n",
    "print(f\"Average intensity over {maturity2}y: {h_2y[0]:.6%}\")\n"
   ],
   "outputs": [
    {
     "name": "stdout",
     "output_type": "stream",
     "text": [
      "Average intensity over 1y: 2.438963%\n",
      "Average intensity over 2y: 2.433770%\n"
     ]
    }
   ],
   "execution_count": 16
  },
  {
   "cell_type": "code",
   "metadata": {
    "ExecuteTime": {
     "end_time": "2025-03-21T06:33:25.225927Z",
     "start_time": "2025-03-21T06:33:25.212492Z"
    }
   },
   "source": [
    "# Q2: Default probability estimates\n",
    "# Survival probabilities\n",
    "# !!! COMPLETE AS APPROPRIATE !!!\n",
    "\n",
    "surv_prob_1y = np.exp(-h_1y*year_frac_act_x([today],[expiry1],3))\n",
    "surv_prob_2y = np.exp(-h_2y*year_frac_act_x([today],[expiry2],3))\n",
    "\n",
    "\n",
    "default_prob_1y =  1- surv_prob_1y\n",
    "default_prob_2y = 1- surv_prob_2y\n",
    "np.array(default_prob_1y)\n",
    "np.array(default_prob_2y)\n",
    "print(f\"{maturity1}y default probability: {default_prob_1y.item():.6%}\")\n",
    "print(f\"{maturity2}y default probability: {default_prob_2y.item():.6%}\")\n",
    "\n"
   ],
   "outputs": [
    {
     "name": "stdout",
     "output_type": "stream",
     "text": [
      "1y default probability: 2.409461%\n",
      "2y default probability: 4.763675%\n"
     ]
    }
   ],
   "execution_count": 17
  },
  {
   "cell_type": "code",
   "metadata": {
    "ExecuteTime": {
     "end_time": "2025-03-21T06:33:28.325003Z",
     "start_time": "2025-03-21T06:33:28.300063Z"
    }
   },
   "source": [
    "# Q3: Z-spread calculation\n",
    "z_spread_1y = fsolve(\n",
    "    lambda z_spread: defaultable_bond_dirty_price_from_z_spread(\n",
    "        today,\n",
    "        expiry1,\n",
    "        coupon_rate1,\n",
    "        coupon_freq1,\n",
    "        z_spread,\n",
    "        dates,\n",
    "        discount_factors,\n",
    "        1.00,\n",
    "    )\n",
    "     - dirty_price1,\n",
    "    x0=0.02,\n",
    ")[0]\n",
    "\n",
    "z_spread_2y = fsolve(\n",
    "    lambda z_spread: defaultable_bond_dirty_price_from_z_spread(\n",
    "        today,\n",
    "        expiry2,\n",
    "        coupon_rate2,\n",
    "        coupon_freq2,\n",
    "        z_spread,\n",
    "        dates,\n",
    "        discount_factors,\n",
    "        1.00,\n",
    "    )\n",
    "    - dirty_price2,\n",
    "    x0=0.02,\n",
    ")[0]\n",
    "\n",
    "print(f\"Z-spread over {maturity1}y: {z_spread_1y:.6%}\")\n",
    "print(f\"Z-spread over {maturity2}y: {z_spread_2y:.6%}\")"
   ],
   "outputs": [
    {
     "name": "stdout",
     "output_type": "stream",
     "text": [
      "Z-spread over 1y: 1.721444%\n",
      "Z-spread over 2y: 1.727300%\n"
     ]
    }
   ],
   "execution_count": 18
  },
  {
   "cell_type": "code",
   "metadata": {
    "ExecuteTime": {
     "end_time": "2025-03-21T06:33:32.536386Z",
     "start_time": "2025-03-21T06:33:32.519870Z"
    }
   },
   "source": [
    "# Q4: Default probability estimates under the hp. of piecewise constant intensity\n",
    "# !!! COMPLETE AS APPROPRIATE !!!\n",
    "v = piece_wise_constant_intensity_from_bonds(today,\n",
    "    [expiry1,expiry2],\n",
    "    [coupon_rate1,coupon_rate2],\n",
    "    [coupon_freq1, coupon_freq2],\n",
    "    dates,\n",
    "    discount_factors,\n",
    "    [dirty_price1, dirty_price2],\n",
    "    recovery_rate,\n",
    ")\n",
    "print(f\"Piecewise constant intensity over {maturity1}y: {v[0]:.6%}\")\n",
    "print(f\"Piecewise constant intensity over {maturity2}y: {v[1]:.6%}\")"
   ],
   "outputs": [
    {
     "name": "stdout",
     "output_type": "stream",
     "text": [
      "Piecewise constant intensity over 1y: 2.438963%\n",
      "Piecewise constant intensity over 2y: 2.429167%\n"
     ]
    }
   ],
   "execution_count": 19
  },
  {
   "cell_type": "code",
   "metadata": {
    "ExecuteTime": {
     "end_time": "2025-03-21T06:33:34.997403Z",
     "start_time": "2025-03-21T06:33:34.983628Z"
    }
   },
   "source": [
    "# Survival probabilities\n",
    "# !!! COMPLETE AS APPROPRIATE !!!\n",
    "\n",
    "surv_prob_1y = np.exp(-v[0]*year_frac_act_x([today],[expiry1],3))\n",
    "surv_prob_2y = np.exp(-v[0]*year_frac_act_x([today],[expiry1],3))*np.exp(-v[1]*year_frac_act_x([expiry1],[expiry2],3))\n",
    "\n",
    "# Defaul probabilities\n",
    "# !!! COMPLETE AS APPROPRIATE !!!\n",
    "default_prob_1y = 1-surv_prob_1y\n",
    "default_prob_2y = 1-surv_prob_2y\n",
    "\n",
    "print(f\"{maturity1}y default probability: {default_prob_1y[0]:.6%}\")\n",
    "print(f\"{maturity2}y default probability: {default_prob_2y[0]:.6%}\")"
   ],
   "outputs": [
    {
     "name": "stdout",
     "output_type": "stream",
     "text": [
      "1y default probability: 2.409461%\n",
      "2y default probability: 4.764214%\n"
     ]
    }
   ],
   "execution_count": 20
  },
  {
   "cell_type": "code",
   "metadata": {
    "ExecuteTime": {
     "end_time": "2025-03-21T06:33:37.248601Z",
     "start_time": "2025-03-21T06:33:37.233142Z"
    }
   },
   "source": [
    "# Q5:Real world default probability from the rating transition matrix\n",
    "# Simplified rating transition matrix at 1y\n",
    "transition_matrix = pd.DataFrame(\n",
    "    [[0.73, 0.25, 0.02], [0.35, 0.6, 0.05], [0, 0, 1]],\n",
    "    index=[\"IG\", \"HY\", \"Def\"],\n",
    "    columns=[\"IG\", \"HY\", \"Def\"],\n",
    ")\n",
    "\n",
    "# !!! COMPLETE AS APPROPRIATE !!!\n",
    "transition_matrix_2y = np.linalg.matrix_power(transition_matrix, 2)\n",
    "print(transition_matrix_2y)\n",
    "\n",
    "transition_matrix_2y = pd.DataFrame(\n",
    "    transition_matrix_2y,\n",
    "    index=[\"IG\", \"HY\", \"Def\"],\n",
    "    columns=[\"IG\", \"HY\", \"Def\"]\n",
    ")\n",
    "\n",
    "print(\n",
    "    f\"One year real world default probability: {transition_matrix.at[rating, 'Def']:.2%}\"\n",
    ")\n",
    "print(\n",
    "    f\"Two year real world default probability: {transition_matrix_2y.at[rating, 'Def']:.2%}\"\n",
    ")"
   ],
   "outputs": [
    {
     "name": "stdout",
     "output_type": "stream",
     "text": [
      "[[0.6204 0.3325 0.0471]\n",
      " [0.4655 0.4475 0.087 ]\n",
      " [0.     0.     1.    ]]\n",
      "One year real world default probability: 2.00%\n",
      "Two year real world default probability: 4.71%\n"
     ]
    }
   ],
   "execution_count": 21
  },
  {
   "cell_type": "code",
   "metadata": {
    "ExecuteTime": {
     "end_time": "2025-03-21T06:33:43.820763Z",
     "start_time": "2025-03-21T06:33:43.802659Z"
    }
   },
   "source": [
    "# Q6: Estimate the default probabilities under a shock scenario of the mid-term survival probability (Scenario1)\n",
    "dirty_price1_shock = dirty_price1\n",
    "dirty_price2_shock = 0.97\n",
    "\n",
    "# !!! COMPLETE AS APPROPRIATE !!!\n",
    "intensities_shock  = piece_wise_constant_intensity_from_bonds(today,\n",
    "    [expiry1,expiry2],\n",
    "    [coupon_rate1,coupon_rate2],\n",
    "    [coupon_freq1, coupon_freq2],\n",
    "    dates,\n",
    "    discount_factors,\n",
    "    [dirty_price1_shock, dirty_price2_shock],\n",
    "    recovery_rate,\n",
    ")\n",
    "print(f\"Piecewise constant shock intensity over {maturity1}y: {intensities_shock[0]:.6%}\")\n",
    "print(f\"Piecewise constant shock intensity over {maturity2}y: {intensities_shock[1]:.6%}\")\n",
    "# Survival probabilities\n",
    "# !!! COMPLETE AS APPROPRIATE !!!\n",
    "surv_prob_1y_shock = np.exp(-intensities_shock[0]*year_frac_act_x([today],[expiry1],3))\n",
    "surv_prob_2y_shock = np.exp(-intensities_shock[0]*year_frac_act_x([today],[expiry1],3))*np.exp(-intensities_shock[1]*year_frac_act_x([expiry1],[expiry2],3))\n",
    "# Defaul probabilities\n",
    "# !!! COMPLETE AS APPROPRIATE !!!\n",
    "default_prob_1y_shock = 1-surv_prob_1y_shock\n",
    "default_prob_2y_shock = 1-surv_prob_2y_shock\n",
    "\n",
    "print(f\"{maturity1}y default shock probability: {default_prob_1y_shock[0]:.6%}\")\n",
    "print(f\"{maturity2}y default shock probability: {default_prob_2y_shock[0]:.6%}\")"
   ],
   "outputs": [
    {
     "name": "stdout",
     "output_type": "stream",
     "text": [
      "Piecewise constant shock intensity over 1y: 2.438963%\n",
      "Piecewise constant shock intensity over 2y: 6.221046%\n",
      "1y default shock probability: 2.409461%\n",
      "2y default shock probability: 8.326880%\n"
     ]
    }
   ],
   "execution_count": 22
  },
  {
   "cell_type": "code",
   "metadata": {
    "ExecuteTime": {
     "end_time": "2025-03-21T06:33:45.860305Z",
     "start_time": "2025-03-21T06:33:45.843292Z"
    }
   },
   "source": [
    "# Q7: Estimate the default probabilities under a shock scenario on overall creditworthiness (Scenario2)\n",
    "dirty_price1_shock2 = 1.010\n",
    "dirty_price2_shock2 = 1.030\n",
    "\n",
    "# !!! COMPLETE AS APPROPRIATE !!!\n",
    "intensities_shock2  = piece_wise_constant_intensity_from_bonds(today,\n",
    "    [expiry1,expiry2],\n",
    "    [coupon_rate1,coupon_rate2],\n",
    "    [coupon_freq1, coupon_freq2],\n",
    "    dates,\n",
    "    discount_factors,\n",
    "    [dirty_price1_shock2, dirty_price2_shock2],\n",
    "    recovery_rate,\n",
    ")\n",
    "\n",
    "# Survival probabilities\n",
    "# !!! COMPLETE AS APPROPRIATE !!!\n",
    "surv_prob_1y_shock2 = np.exp(-intensities_shock2[0]*year_frac_act_x([today],[expiry1],3))\n",
    "surv_prob_2y_shock2 = np.exp(-intensities_shock2[1]*year_frac_act_x([expiry1],[expiry2],3))*np.exp(-intensities_shock2[0]*year_frac_act_x([today],[expiry1],3))\n",
    "\n",
    "# Defaul probabilities\n",
    "# !!! COMPLETE AS APPROPRIATE !!!\n",
    "default_prob_1y_shock2 = 1-surv_prob_1y_shock2\n",
    "default_prob_2y_shock2 = 1-surv_prob_2y_shock2\n",
    "\n",
    "print(f\"{maturity1}y default shock2 probability: {default_prob_1y_shock2[0]:.6%}\")\n",
    "print(f\"{maturity2}y default shock2 probability: {default_prob_2y_shock2[0]:.6%}\")"
   ],
   "outputs": [
    {
     "name": "stdout",
     "output_type": "stream",
     "text": [
      "1y default shock2 probability: 1.004471%\n",
      "2y default shock2 probability: 2.700512%\n"
     ]
    }
   ],
   "execution_count": 23
  },
  {
   "cell_type": "code",
   "metadata": {
    "ExecuteTime": {
     "end_time": "2025-03-21T06:33:50.591582Z",
     "start_time": "2025-03-21T06:33:50.505281Z"
    }
   },
   "source": [
    "# Q8: Are the conditional default probabilities between the first and the second year derived under the scenario 1\n",
    "# consistent with the equivalent real-world probabilities derived from the transition matrix?\n",
    "# !!! COMPLETE AS APPROPRIATE !!!\n",
    "p_def_1y = transition_matrix.at[rating, 'Def']\n",
    "p_def_2y = transition_matrix_2y.at[rating, 'Def']\n",
    "p_def_cond_2y = (p_def_2y - p_def_1y) / (1 - p_def_1y)\n",
    "print(f\"Conditional default probability (historical): {p_def_cond_2y:.6%}\")\n",
    "\n",
    "\n",
    "p_def_cond_2y_scenario = (default_prob_2y_shock[0] - default_prob_1y_shock[0])/surv_prob_1y_shock[0]\n",
    "\n",
    "\n",
    "print(f\"Conditional default probability (Scenario 1): {p_def_cond_2y_scenario:.6%}\")\n",
    "\n",
    "\n",
    "\n",
    "labels = [\"Historical\", \"Scenario 1\"]\n",
    "values = [p_def_cond_2y, p_def_cond_2y_scenario]\n",
    "\n",
    "\n",
    "plt.figure(figsize=(6, 4))\n",
    "plt.bar(labels, values, color=['blue', 'red'], alpha=0.7)\n",
    "\n",
    "\n",
    "for i, v in enumerate(values):\n",
    "    plt.text(i, v + 0.001, f\"{v:.2%}\", ha='center', fontsize=12)\n",
    "\n",
    "\n",
    "plt.title(\"Conditional Default Probability (Year 2)\")\n",
    "plt.ylabel(\"Probability\")\n",
    "plt.ylim(0, max(values) * 1.2)\n",
    "\n",
    "plt.show()\n",
    "\n",
    "\n",
    "years = [1, 2]\n",
    "historical_probs = [p_def_1y, p_def_cond_2y]\n",
    "scenario_probs = [p_def_1y, p_def_cond_2y_scenario]\n",
    "\n",
    "\n",
    "error = np.abs(np.array(scenario_probs) - np.array(historical_probs))\n",
    "\n",
    "\n",
    "plt.figure(figsize=(8, 5), dpi=100)\n",
    "\n",
    "\n",
    "historical_color = \"#4c72b0\"\n",
    "scenario_color = \"#dd8452\"\n",
    "error_color = \"#c44e52\"\n",
    "\n",
    "\n",
    "plt.plot(years, historical_probs, marker='o', linestyle='-', linewidth=2.5, color=historical_color, label=\"Historical Probabilities\")\n",
    "plt.plot(years, scenario_probs, marker='s', linestyle='--', linewidth=2.5, color=scenario_color, label=\"Scenario 1 Probabilities\")\n",
    "\n",
    "\n",
    "plt.fill_between(years, historical_probs, scenario_probs, color=error_color, alpha=0.2, label=\"Absolute Error\")\n",
    "\n",
    "\n",
    "plt.xticks(years, labels=[\"1Y\", \"2Y\"], fontsize=12, fontweight=\"bold\")\n",
    "plt.yticks(fontsize=11)\n",
    "plt.ylabel(\"Conditional Default Probability\", fontsize=13, fontweight=\"bold\")\n",
    "plt.title(\"Comparison of Conditional Default Probabilities\", fontsize=14, fontweight=\"bold\", color=\"#333\")\n",
    "\n",
    "\n",
    "plt.legend(frameon=True, fancybox=True, shadow=True, fontsize=12, loc=\"upper left\")\n",
    "\n",
    "\n",
    "plt.grid(True, linestyle=\"--\", linewidth=0.6, alpha=0.7, color=\"gray\")\n",
    "\n",
    "\n",
    "plt.gca().set_facecolor(\"#f7f7f7\")\n",
    "\n",
    "\n",
    "plt.show()\n"
   ],
   "outputs": [
    {
     "name": "stdout",
     "output_type": "stream",
     "text": [
      "Conditional default probability (historical): 2.765306%\n",
      "Conditional default probability (Scenario 1): 6.063517%\n"
     ]
    },
    {
     "data": {
      "text/plain": [
       "<Figure size 600x400 with 1 Axes>"
      ],
      "image/png": "[encoded data removed]"
     },
     "metadata": {},
     "output_type": "display_data"
    },
    {
     "data": {
      "text/plain": [
       "<Figure size 800x500 with 1 Axes>"
      ],
      "image/png": "[encoded data removed]"
     },
     "metadata": {},
     "output_type": "display_data"
    }
   ],
   "execution_count": 24
  }
 ],
 "metadata": {
  "kernelspec": {
   "display_name": "my_env",
   "language": "python",
   "name": "python3"
  },
  "language_info": {
   "codemirror_mode": {
    "name": "ipython",
    "version": 3
   },
   "file_extension": ".py",
   "mimetype": "text/x-python",
   "name": "python",
   "nbconvert_exporter": "python",
   "pygments_lexer": "ipython3",
   "version": "3.11.11"
  }
 },
 "nbformat": 4,
 "nbformat_minor": 2
}
