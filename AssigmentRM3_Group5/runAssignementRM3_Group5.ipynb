{
 "cells": [
  {
   "cell_type": "markdown",
   "metadata": {},
   "source": [
    "# Mathematical Engineering - Financial Engineering, FY 2024-2025\n",
    "# Risk Management - Exercise 3: Equity Portfolio VaR/ES and Counterparty Risk"
   ]
  },
  {
   "cell_type": "code",
   "execution_count": 1,
   "metadata": {},
   "outputs": [],
   "source": [
    "# Importing libraries and loading data\n",
    "import os\n",
    "import numpy as np\n",
    "import pandas as pd\n",
    "from pathlib import Path\n",
    "from datetime import datetime, timedelta\n",
    "from utilities import zeroRates\n",
    "from bootstrap import bootstrap\n",
    "import datetime as dt\n",
    "\n",
    "\n",
    "import matplotlib.pyplot as plt\n",
    "from dateutil.relativedelta import relativedelta\n",
    "\n",
    "from ex1_utilities import (\n",
    "    business_date_offset,\n",
    "    year_frac_act_x,\n",
    "    year_frac_act_xNEW,\n",
    "    get_discount_factor_by_zero_rates_linear_interp,\n",
    ")\n",
    "from ex3_utilities import (\n",
    "    gaussian_var_es,\n",
    "    hs_var_es,\n",
    "    principal_component_analysis,\n",
    "    plausility_check,\n",
    "    black_scholes_option_pricer,\n",
    ")\n",
    "\n",
    "from utilities import read_mat_file_dates\n",
    "from utilities import read_mat_file_rates\n",
    "from utilities import convert_date_to_string\n",
    "# !!! IMPORT PRICES AND TICKERS DATA !!!\n",
    "prices_df = pd.read_csv('sx5e_underlyings.csv',index_col ='Date', parse_dates = True) # sx5e_underlyings.csv\n",
    "tickers_df = pd.read_csv('ticker_details.csv',usecols=[1,2]) # ticker_details.csv\n",
    "# prices = pd.read_csv(\"sx5e_underlyings.csv\")\n"
   ]
  },
  {
   "cell_type": "code",
   "execution_count": 2,
   "metadata": {},
   "outputs": [],
   "source": [
    "# !!! READ MARKET AND BOOTSTRAP DATA !!!\n",
    "datesSet = read_mat_file_dates(\"datesSet.mat\")\n",
    "datesSetNew = {\"settlement\":convert_date_to_string(datesSet[\"settlement\"]), \"depos\": convert_date_to_string(datesSet[\"depos\"]),\n",
    "               \"futures_settlement\": convert_date_to_string(datesSet[\"futures_settlement\"]), \"futures_expiry\": convert_date_to_string(datesSet[\"futures_scadenza\"]),\n",
    "               \"swaps\": convert_date_to_string(datesSet[\"swaps\"])}\n",
    "ratesSet = read_mat_file_rates(\"ratesSet.mat\")\n",
    "[dates, discounts] = bootstrap(datesSetNew,ratesSet)\n",
    "discounts = [1] +  discounts\n",
    "dates = datesSetNew[\"settlement\"] + dates\n",
    "dates = [dt.datetime.strptime(date, \"%Y-%m-%d\") for date in dates]\n",
    "today = dates[0]\n",
    "discount_factors = discounts"
   ]
  },
  {
   "cell_type": "code",
   "execution_count": 3,
   "metadata": {},
   "outputs": [],
   "source": [
    "date = pd.Timestamp(2020, 1, 31)\n",
    "alpha = 0.95  # Significance level\n",
    "\n",
    "log_returns = np.log(prices_df).diff()\n",
    "log_returns.index = pd.to_datetime(log_returns.index)\n",
    "log_returns.bfill(inplace=True)"
   ]
  },
  {
   "cell_type": "code",
   "execution_count": 4,
   "metadata": {},
   "outputs": [
    {
     "name": "stdout",
     "output_type": "stream",
     "text": [
      "Case Study 1 - Q1: Gaussian VaR: €415,319.47587, ES: €520,494.47226\n"
     ]
    }
   ],
   "source": [
    "# Case Study 1 - Q1: Compute daily VaR and ES with a 4y estimation using the dataset provided via Gaussian\n",
    "# parametric approach.\n",
    "\n",
    "# Sets a 4-year window for historical data\n",
    "time_horizon1 = 4  # In years\n",
    "ptf_notional = 25e6  # Portfolio notional in euros\n",
    "\n",
    "# Calculates the start date by subtracting 4 years from the current date\n",
    "start_date1 = date - relativedelta(years=time_horizon1)\n",
    "\n",
    "# !!! COMPLETE APPROPRIATELY !!!\n",
    "# Names of the stocks in the portfolio\n",
    "names=[\"BMW\",\"BNP Paribas\",\"Danone\",\"Nokia\",\"TotalEnergies\"]\n",
    "\n",
    "# Retrieves the tickers corresponding to the names above\n",
    "portfolio1_stocks = tickers_df[tickers_df[\"Name\"].isin(names)][\"Ticker\"].values\n",
    "\n",
    "# An alternative way to assign equal weights (commented out) is shown above; here each stock has a 20% weight\n",
    "# weights = 1/5 * pd.Series([1, 1, 1, 1, 1], index=portfolio1_stocks)\n",
    "weights = pd.Series([0.2] * 5,index=portfolio1_stocks)\n",
    "\n",
    "# Selects the log returns for the chosen time window and stocks\n",
    "returns1 = log_returns.loc[start_date1:date, weights.index]\n",
    "\n",
    "# Computes the mean of the log returns\n",
    "mu = log_returns.loc[start_date1:date, weights.index].mean()\n",
    "# Computes the covariance matrix of the log returns\n",
    "sigma = log_returns.loc[start_date1:date, weights.index].cov()\n",
    "\n",
    "# Calculates VaR and ES using the Gaussian parametric approach\n",
    "VaR_1, ES_1 = gaussian_var_es(mu, sigma, alpha, weights, ptf_notional)\n",
    "\n",
    "# Prints the resulting VaR and ES for the portfolio\n",
    "print(f\"Case Study 1 - Q1: Gaussian VaR: €{VaR_1:,.5f}, ES: €{ES_1:,.5f}\")\n"
   ]
  },
  {
   "cell_type": "code",
   "execution_count": 5,
   "metadata": {},
   "outputs": [
    {
     "name": "stdout",
     "output_type": "stream",
     "text": [
      "Case Study 1 - Q2: HS VaR: €315,086.53, ES: €466,044.00\n",
      "Case Study 1 - Q2: Bootstrap VaR: €293,159.31, ES: €402,208.21€\n"
     ]
    }
   ],
   "source": [
    "# Case Study 1 - Q2: Historical Simulation and Bootstrap\n",
    "\n",
    "# Defines the time horizon for the historical window (3 years)\n",
    "time_horizon2 = 3\n",
    "\n",
    "# Calculates the start date by subtracting 3 years from the current date\n",
    "start_date2 = date - relativedelta(years=time_horizon2)\n",
    "\n",
    "# !!! COMPLETE APPROPRIATELY !!!\n",
    "\n",
    "# Lists the names of the selected stocks\n",
    "names = [\"Adidas\", \"Allianz\", \"ASML\", \"Deutsche Boerse\"]\n",
    "# Filters the tickers_df DataFrame to keep only the tickers matching the names above\n",
    "portfolio2_stocks = tickers_df[tickers_df['Name'].isin(names)]['Ticker']\n",
    "\n",
    "# Defines the number of shares for each stock\n",
    "shares_num = pd.Series([25e3, 20e3, 20e3, 10e3], index=portfolio2_stocks)\n",
    "\n",
    "# Retrieves the current prices for the chosen stocks on the specified date\n",
    "current_prices = (prices_df.loc[date, portfolio2_stocks])\n",
    "\n",
    "# Computes the portfolio's notional by multiplying current prices by the number of shares\n",
    "ptf2_notional = np.dot(current_prices, shares_num)\n",
    "\n",
    "# Computes the weights of each stock in the portfolio\n",
    "weights2 = current_prices * shares_num / ptf2_notional  # Weights of the stocks in the portfolio\n",
    "\n",
    "# Selects the log returns for the chosen period and stocks\n",
    "returns2 = log_returns.loc[start_date2:date, portfolio2_stocks]\n",
    "\n",
    "\"\"\"\"FE 25 - RM3.docx\"\n",
    "portfolio2_stocks = prices_df[['ADSGn.DE','ALVG.DE','ASML.AS','DB1Gn.DE']][start_date2:date]\n",
    "shares_num = np.array([25000,20000,20000,10000])\n",
    "ptf2_notional = sum(portfolio2_stocks.iloc[0]*shares_num)\n",
    "weight_share=shares_num/sum(shares_num)\n",
    "weights2 = (pd.Series(weight_share*portfolio2_stocks.iloc[0]/sum(weight_share*portfolio2_stocks.iloc[0]), index=portfolio2_stocks.columns))\n",
    "returns2= np.log(portfolio2_stocks).diff().dropna()\n",
    "\"\"\"\"FE 25 - RM3.docx\"\n",
    "\n",
    "# HS (Historical Simulation)\n",
    "VaR_2, ES_2 = hs_var_es(returns2, alpha, weights2, ptf2_notional)\n",
    "print(f\"Case Study 1 - Q2: HS VaR: €{VaR_2:,.2f}, ES: €{ES_2:,.2f}\")\n",
    "\n",
    "# Sets a random seed for reproducibility\n",
    "np.random.seed(5)\n",
    "\n",
    "# Bootstrap approach for VaR and ES estimation\n",
    "simulations_num = 300  # Defines how many random samples to draw; may need more for accurate convergence\n",
    "VaR_2_bootstrap, ES_2_bootstrap = hs_var_es(\n",
    "    returns2.sample(simulations_num, replace=True),\n",
    "    alpha,\n",
    "    weights2,\n",
    "    ptf2_notional,\n",
    ")\n",
    "print(\n",
    "    f\"Case Study 1 - Q2: Bootstrap VaR: €{VaR_2_bootstrap:,.2f}, ES: €{ES_2_bootstrap:,.2f}€\"\n",
    ")\n"
   ]
  },
  {
   "cell_type": "code",
   "execution_count": 6,
   "metadata": {},
   "outputs": [
    {
     "name": "stdout",
     "output_type": "stream",
     "text": [
      "Case Study 1 - Q3: WHS VaR: €384,278.00, ES: €598,372.87\n"
     ]
    },
    {
     "name": "stderr",
     "output_type": "stream",
     "text": [
      "c:\\Users\\PC-Tommaso\\Desktop\\FE_LAB\\LAB_RM_03\\ex3_utilities.py:181: FutureWarning: Series.__getitem__ treating keys as positions is deprecated. In a future version, integer keys will always be treated as labels (consistent with DataFrame behavior). To access a value by position, use `ser.iloc[pos]`\n",
      "  sorted_losses = weighted_losses[sorted_indices] # Ordina le perdite ponderate\n",
      "c:\\Users\\PC-Tommaso\\Desktop\\FE_LAB\\LAB_RM_03\\ex3_utilities.py:182: FutureWarning: Series.__getitem__ treating keys as positions is deprecated. In a future version, integer keys will always be treated as labels (consistent with DataFrame behavior). To access a value by position, use `ser.iloc[pos]`\n",
      "  sorted_weights = decay_weights[sorted_indices] # Ordina i pesi\n",
      "c:\\Users\\PC-Tommaso\\Desktop\\FE_LAB\\LAB_RM_03\\ex3_utilities.py:185: FutureWarning: Series.__getitem__ treating keys as positions is deprecated. In a future version, integer keys will always be treated as labels (consistent with DataFrame behavior). To access a value by position, use `ser.iloc[pos]`\n",
      "  var = sorted_losses[var_index]\n"
     ]
    }
   ],
   "source": [
    "# Case Study 1 - Q3: WHS\n",
    "\n",
    "# Defines the smoothing parameter (lambda) for Weighted Historical Simulation (WHS)\n",
    "lambda_ = 0.95\n",
    "\n",
    "# Establishes the start date by subtracting 4 years from the current date\n",
    "start_date3 = date - relativedelta(years=4)\n",
    "\n",
    "# Sets the notional value for the portfolio\n",
    "ptf3_notional = 25e6\n",
    "\n",
    "# Specifies the names of the stocks to be included\n",
    "names = [\"Airbus\", \"BBVA\", \"BMW\", \"Eni\", \"ING Group\", \"Schneider Electric\"]\n",
    "\n",
    "# Retrieves the tickers of the selected stocks\n",
    "portfolio3_stocks = tickers_df[tickers_df['Name'].isin(names)]['Ticker']  # Tickers of the stocks in the portfolio\n",
    "\n",
    "# Assigns equal weights to each stock in the portfolio\n",
    "weights3 = pd.Series([1/6] * 6, index=portfolio3_stocks)\n",
    "\n",
    "# Selects the log returns for the chosen time window and stocks\n",
    "returns3 = log_returns.loc[start_date1:date, weights3.index]\n",
    "\n",
    "# Performs Weighted Historical Simulation to compute VaR and ES\n",
    "VaR_3, ES_3 = hs_var_es(\n",
    "    returns3,\n",
    "    alpha,\n",
    "    weights3,\n",
    "    ptf_notional,\n",
    "    lambda_=lambda_,\n",
    ")\n",
    "\n",
    "# Prints the results for VaR and ES\n",
    "print(f\"Case Study 1 - Q3: WHS VaR: €{VaR_3:,.2f}, ES: €{ES_3:,.2f}\")\n"
   ]
  },
  {
   "cell_type": "code",
   "execution_count": 7,
   "metadata": {},
   "outputs": [
    {
     "data": {
      "text/plain": [
       "<matplotlib.legend.Legend at 0x274a232ce30>"
      ]
     },
     "execution_count": 7,
     "metadata": {},
     "output_type": "execute_result"
    },
    {
     "data": {
      "image/png": "[encoded data removed]",
      "text/plain": [
       "<Figure size 640x480 with 1 Axes>"
      ]
     },
     "metadata": {},
     "output_type": "display_data"
    }
   ],
   "source": [
    "plt.plot(prices_df.loc[start_date1:date, weights3.index])\n",
    "plt.legend(weights3.index)"
   ]
  },
  {
   "cell_type": "code",
   "execution_count": 8,
   "metadata": {},
   "outputs": [
    {
     "name": "stdout",
     "output_type": "stream",
     "text": [
      "Case Study 1 - Q4: PCA(n=1) VaR: €1,003,904.47, ES: €1,271,238.49\n",
      "Case Study 1 - Q4: PCA(n=2) VaR: €1,000,535.11, ES: €1,268,977.52\n",
      "Case Study 1 - Q4: PCA(n=3) VaR: €998,774.78, ES: €1,267,282.64\n",
      "Case Study 1 - Q4: PCA(n=4) VaR: €1,005,582.05, ES: €1,274,183.22\n",
      "Case Study 1 - Q4: PCA(n=5) VaR: €1,001,025.48, ES: €1,270,191.89\n",
      "Case Study 1 - Q4: PCA(n=6) VaR: €1,001,440.91, ES: €1,270,611.33\n",
      "Case Study 1 - Q4: PCA(n=7) VaR: €1,001,320.45, ES: €1,270,490.99\n",
      "Case Study 1 - Q4: PCA(n=8) VaR: €1,004,411.01, ES: €1,273,683.51\n",
      "Case Study 1 - Q4: PCA(n=9) VaR: €1,005,179.30, ES: €1,274,499.73\n",
      "Case Study 1 - Q4: PCA(n=10) VaR: €1,004,668.21, ES: €1,274,032.43\n",
      "Case Study 1 - Q4: PCA(n=11) VaR: €1,003,785.30, ES: €1,273,254.77\n",
      "Case Study 1 - Q4: PCA(n=12) VaR: €1,004,096.41, ES: €1,273,566.90\n",
      "Case Study 1 - Q4: PCA(n=13) VaR: €1,003,861.94, ES: €1,273,340.25\n",
      "Case Study 1 - Q4: PCA(n=14) VaR: €1,003,963.83, ES: €1,273,442.28\n",
      "Case Study 1 - Q4: PCA(n=15) VaR: €1,003,832.53, ES: €1,273,311.12\n",
      "Case Study 1 - Q4: PCA(n=16) VaR: €1,003,825.35, ES: €1,273,311.40\n",
      "Case Study 1 - Q4: PCA(n=17) VaR: €1,004,382.58, ES: €1,273,891.47\n",
      "Case Study 1 - Q4: PCA(n=18) VaR: €1,005,831.56, ES: €1,275,368.40\n",
      "Case Study 1 - Q4: PCA(n=19) VaR: €1,005,463.55, ES: €1,275,002.27\n",
      "Case Study 1 - Q4: PCA(n=20) VaR: €1,005,442.49, ES: €1,274,981.24\n"
     ]
    }
   ],
   "source": [
    "# Case Study 1 - Q4: PCA\n",
    "delta = 10  # Sets the horizon parameter for scaling risk measures (e.g., 10 days)\n",
    "\n",
    "# !!! COMPLETE APPROPRIATELY !!!\n",
    "names = [\n",
    "    \"Inditex\",\n",
    "    \"Linde PLC\",\n",
    "    \"LVMH MoÃ«t Hennessy Louis Vuitton\",\n",
    "    \"Mercedes-Benz Group\",\n",
    "    \"Munich Re\",\n",
    "    \"Nordea\",\n",
    "    \"Nokia\",\n",
    "    \"L'OrÃ©al\",\n",
    "    \"Pernod Ricard\",\n",
    "    \"Kering\",\n",
    "    \"Safran\",\n",
    "    \"Banco Santander\",\n",
    "    \"SAP\",\n",
    "    \"Sanofi\",\n",
    "    \"Schneider Electric\",\n",
    "    \"Vinci\",\n",
    "    \"Siemens\",\n",
    "    \"Stellantis\",\n",
    "    \"TotalEnergies\",\n",
    "    \"Vonovia\",\n",
    "    \"Volkswagen Group\",\n",
    "]  # List of stock names\n",
    "\n",
    "manual_ticker = 'LVMH.PA'  # Manual ticker insertion to replace an incorrect reading\n",
    "\n",
    "# Retrieves the tickers for the specified stock names\n",
    "portfolio3_stocks = tickers_df[tickers_df['Name'].isin(names)]['Ticker'].tolist()\n",
    "\n",
    "# Inserts the manual ticker in the appropriate position\n",
    "portfolio3_stocks.insert(2, manual_ticker)\n",
    "\n",
    "# Assigns a weight of 5% to each of the 20 selected stocks in the portfolio\n",
    "weights4 = pd.Series([0.05] * 20, index=portfolio3_stocks)\n",
    "\n",
    "# Selects log returns for the chosen period and stocks\n",
    "returns4 = log_returns.loc[start_date2:date, portfolio3_stocks]\n",
    "\n",
    "# Computes the mean vector (mu) of log returns\n",
    "mu = returns4.mean()\n",
    "\n",
    "# Computes the covariance matrix (sigma) of log returns\n",
    "sigma = returns4.cov()\n",
    "\n",
    "# Computes the correlation matrix (corr) of log returns\n",
    "corr = returns4.corr()\n",
    "\n",
    "# Performs Principal Component Analysis on the covariance matrix\n",
    "eigenvals, eigenvecs = principal_component_analysis(sigma.values)\n",
    "\n",
    "# !!! COMPLETE APPROPRIATELY !!!\n",
    "mu_hat = eigenvecs.T.dot(mu)  # Projects the mean vector onto the principal components\n",
    "w_hat = eigenvecs.T.dot(weights4)  # Projects the portfolio weights onto the principal components\n",
    "\n",
    "# Creates a DataFrame to store VaR and ES results for each number of principal components\n",
    "pca_risk_metrics = pd.DataFrame(columns=[\"VaR\", \"ES\"])\n",
    "\n",
    "# Iterates from 1 to 20 principal components\n",
    "for n in range(1, 21):\n",
    "    # Calculates VaR and ES using the projected means, the diagonal of eigenvalues, alpha, and the projected weights\n",
    "    VaR, ES = gaussian_var_es(\n",
    "        mu_hat[:n],\n",
    "        np.diag(eigenvals[:n]),\n",
    "        alpha,\n",
    "        w_hat[:n],\n",
    "        ptf_notional,\n",
    "        delta\n",
    "    )\n",
    "    # Prints the VaR and ES for the given number of principal components\n",
    "    print(f\"Case Study 1 - Q4: PCA(n={n}) VaR: €{VaR:,.2f}, ES: €{ES:,.2f}\")\n",
    "\n",
    "    # Stores the results in the pca_risk_metrics DataFrame\n",
    "    pca_risk_metrics.loc[n] = VaR, ES\n"
   ]
  },
  {
   "cell_type": "code",
   "execution_count": 9,
   "metadata": {},
   "outputs": [
    {
     "name": "stdout",
     "output_type": "stream",
     "text": [
      "Case Study 1 - Q5: Estimated VaR1: €369,290.10, Estimated VaR2: €301,008.18, Estimated VaR3: €459,431.92, Estimated VaR4: €997,234.13\n"
     ]
    }
   ],
   "source": [
    "# Case Study 1 - Q5: Plausibility check\n",
    "\n",
    "# Calls a custom 'plausibility_check' function for each of the four cases, passing in:\n",
    "#   - The log returns over the relevant period\n",
    "#   - The portfolio weights\n",
    "#   - The alpha (significance level)\n",
    "#   - The portfolio notional (and delta, where applicable)\n",
    "Estimated_VaR1 = plausility_check(returns1, weights, alpha, ptf_notional)        # Estimated VaR for Case 1\n",
    "Estimated_VaR2 = plausility_check(returns2, weights2, alpha, ptf2_notional)      # Estimated VaR for Case 2\n",
    "Estimated_VaR3 = plausility_check(returns3, weights3, alpha, ptf3_notional)      # Estimated VaR for Case 3\n",
    "Estimated_VaR4 = plausility_check(returns4, weights4, alpha, ptf_notional, delta) # Estimated VaR for Case 4\n",
    "\n",
    "# Prints the estimated VaR results for all four cases\n",
    "print(\n",
    "    f\"Case Study 1 - Q5: Estimated VaR1: €{Estimated_VaR1:,.2f}, \"\n",
    "    f\"Estimated VaR2: €{Estimated_VaR2:,.2f}, \"\n",
    "    f\"Estimated VaR3: €{Estimated_VaR3:,.2f}, \"\n",
    "    f\"Estimated VaR4: €{Estimated_VaR4:,.2f}\"\n",
    ")"
   ]
  },
  {
   "cell_type": "code",
   "execution_count": 10,
   "metadata": {},
   "outputs": [
    {
     "name": "stderr",
     "output_type": "stream",
     "text": [
      "C:\\Users\\PC-Tommaso\\AppData\\Local\\Temp\\ipykernel_8176\\1417041849.py:61: FutureWarning: Calling float on a single element Series is deprecated and will raise a TypeError in the future. Use float(ser.iloc[0]) instead\n",
      "  risk_factor[i] = von_log_returns.sample(delta, replace=True).sum()  # Samples 'delta' daily returns from historical data\n",
      "C:\\Users\\PC-Tommaso\\AppData\\Local\\Temp\\ipykernel_8176\\1417041849.py:63: DeprecationWarning: Conversion of an array with ndim > 0 to a scalar is deprecated, and will error in future. Ensure you extract a single element from your array before performing this operation. (Deprecated NumPy 1.25.)\n",
      "  simulated_put_prices[i] = black_scholes_option_pricer(\n"
     ]
    },
    {
     "name": "stdout",
     "output_type": "stream",
     "text": [
      "Case Study 2 - Q1: Monte-Carlo VaR: €269,106.65\n"
     ]
    }
   ],
   "source": [
    "# Case Study 2 - Q1: Monte-Carlo Simulation\n",
    "\n",
    "# Parameters\n",
    "date = pd.Timestamp(2023, 1, 31)\n",
    "\n",
    "time_horizon = 2  # In years\n",
    "\n",
    "stock_name = \"Anheuser-Busch InBev\"\n",
    "stock_notional = 5_509_000\n",
    "\n",
    "put_expiry = pd.Timestamp(2023, 4, 5)\n",
    "strike = 53\n",
    "iv = 0.185  # Implied volatility\n",
    "d = 0.03  # Dividend yield\n",
    "\n",
    "delta = 10\n",
    "alpha = 0.99\n",
    "\n",
    "start_date = date - relativedelta(years=time_horizon)\n",
    "\n",
    "# !!! COMPLETE APPROPRIATELY !!!\n",
    "ptf_stock = [\"Anheuser-Busch InBev\"]  # Defines the list with the stock of interest\n",
    "stock_ticker = tickers_df.loc[tickers_df[\"Name\"].isin(ptf_stock),\"Ticker\"].tolist()  # Retrieves the ticker\n",
    "stock_price = prices_df.loc[date,stock_ticker].values[0]  # Gets the stock price on the given date\n",
    "stock_number = stock_notional / stock_price  # Calculates the number of shares based on the notional\n",
    "put_number = stock_number  # Sets the same number for put options\n",
    "\n",
    "von_log_returns = log_returns.loc[start_date:date, stock_ticker]  # Historical log returns for the chosen stock\n",
    "\n",
    "ttm = year_frac_act_x([date], [put_expiry], 3 )  # Time to maturity in years (ACT/365)\n",
    "\n",
    "# !!! COMPLETE APPROPRIATELY !!!\n",
    "# Loading and interpolating zero rates\n",
    "[dates, discounts] = bootstrap(datesSetNew,ratesSet)  # Bootstraps the discount factors\n",
    "zero_rates = zeroRates(dates,discounts)               # Computes zero rates from discounts\n",
    "dates = pd.to_datetime(dates)                         # Converts dates to datetime format\n",
    "\n",
    "yf = year_frac_act_x([dates[0]], dates, 3)  # Calculates year fractions for interpolation\n",
    "ttm_value = ttm[0]  # Extracts the float time-to-maturity value\n",
    "\n",
    "B = get_discount_factor_by_zero_rates_linear_interp(date,put_expiry,dates,discounts)  # Discount factor for the put expiry\n",
    "\n",
    "zero_rate = - np.log(B) / ttm_value  # Calculates the continuously compounded risk-free rate\n",
    "\n",
    "# Put price\n",
    "put_price, put_delta, put_gamma = black_scholes_option_pricer(\n",
    "    stock_price, strike, ttm, zero_rate, iv, d, return_delta_gamma=True\n",
    ")  # Computes the put option price, delta, and gamma\n",
    "\n",
    "# !!! COMPLETE APPROPRIATELY !!!\n",
    "# Simulating stock prices and put prices\n",
    "num_simul = 10000  # Number of simulation paths\n",
    "np.random.seed(5)  # Sets the random seed for reproducible results\n",
    "zero_rate_2 = - np.log(B) / (ttm_value - delta/365)  # Adjusts the risk-free rate for the remaining time after delta days\n",
    "\n",
    "risk_factor = np.zeros(num_simul)  # Array to store the sum of random daily returns\n",
    "simulated_stock_prices = np.zeros(num_simul)  # Array to store simulated stock prices\n",
    "simulated_put_prices =  np.zeros(num_simul)  # Array to store simulated put option prices\n",
    "\n",
    "for i in range (num_simul): \n",
    "    risk_factor[i] = von_log_returns.sample(delta, replace=True).sum()  # Samples 'delta' daily returns from historical data\n",
    "    simulated_stock_prices[i] = stock_price * np.exp(risk_factor[i])    # Applies exponential of the sum of returns\n",
    "    simulated_put_prices[i] = black_scholes_option_pricer(\n",
    "        simulated_stock_prices[i], strike, ttm - delta/365, zero_rate_2, iv, d\n",
    "    )  # Prices the put option at the simulated stock level for (ttm - delta) time\n",
    "    \n",
    "# Calculates the overall loss of the position (long stock + long put)\n",
    "loss = (\n",
    "    -(simulated_put_prices - put_price) * put_number\n",
    "    - (simulated_stock_prices - stock_price) * stock_number\n",
    ")\n",
    "\n",
    "# Sorts losses in descending order\n",
    "sorted_loss = sorted(\n",
    "    loss,\n",
    "    reverse=True,\n",
    ")\n",
    "\n",
    "index = np.floor((1 - alpha) * len(sorted_loss)).astype(int)  # Finds the index for VaR at the alpha quantile\n",
    "VaR_MC = sorted_loss[index - 1]  # Retrieves the VaR estimate\n",
    "print(f\"Case Study 2 - Q1: Monte-Carlo VaR: €{VaR_MC:,.2f}\")\n"
   ]
  },
  {
   "cell_type": "code",
   "execution_count": 11,
   "metadata": {},
   "outputs": [
    {
     "name": "stdout",
     "output_type": "stream",
     "text": [
      "Case Study 2 - Q1: Delta Normal Approach: €450,190.75\n"
     ]
    }
   ],
   "source": [
    "# Case study 2 - Q1: Delta Normal Approach\n",
    "\n",
    "# Computes the overall loss assuming a linear approximation (Delta-based approach) \n",
    "# to the change in option price, plus the change in the underlying stock.\n",
    "loss = -(put_delta * put_number + stock_number) * stock_price * risk_factor\n",
    "\n",
    "# Sorts the losses in descending order\n",
    "sorted_loss = sorted(\n",
    "    loss,\n",
    "    reverse=True,\n",
    ")\n",
    "\n",
    "# Finds the index corresponding to the (1 - alpha) quantile in the sorted loss array\n",
    "index = np.floor((1 - alpha) * len(sorted_loss)).astype(int)\n",
    "\n",
    "# Extracts the VaR estimate from the sorted losses\n",
    "VaR_MC = sorted_loss[index - 1]\n",
    "\n",
    "# Prints the result of the Delta Normal VaR calculation\n",
    "print(f\"Case Study 2 - Q1: Delta Normal Approach: €{VaR_MC:,.2f}\")"
   ]
  },
  {
   "cell_type": "code",
   "execution_count": 12,
   "metadata": {},
   "outputs": [
    {
     "name": "stdout",
     "output_type": "stream",
     "text": [
      "Case Study 2 - Q2: We can improved the delta normal approach introducing a second order term ->€283,541.08\n"
     ]
    }
   ],
   "source": [
    "# Case Study 2 - Q2: Delta-Gamma Approach\n",
    "\n",
    "# Adds a second-order term to the option price approximation by introducing Gamma.\n",
    "# This better captures curvature effects for changes in the underlying's price.\n",
    "loss = (\n",
    "    -(put_delta * put_number + stock_number) * stock_price * risk_factor\n",
    "    - 0.5 * put_gamma * put_number * (stock_price**2) * (risk_factor**2)\n",
    ")\n",
    "\n",
    "# Sorts the losses in descending order\n",
    "sorted_loss = sorted(\n",
    "    loss,\n",
    "    reverse=True,\n",
    ")\n",
    "\n",
    "# Finds the index corresponding to the (1 - alpha) quantile in the sorted loss array\n",
    "index = np.floor((1 - alpha) * len(sorted_loss)).astype(int)\n",
    "\n",
    "# Extracts the VaR estimate from the sorted losses\n",
    "VaR_MC = sorted_loss[index - 1]\n",
    "\n",
    "# Prints the VaR result for the Delta-Gamma approach\n",
    "print(f\"Case Study 2 - Q2: We can improved the delta normal approach introducing a second order term ->€{VaR_MC:,.2f}\")"
   ]
  },
  {
   "cell_type": "code",
   "execution_count": 14,
   "metadata": {},
   "outputs": [
    {
     "name": "stdout",
     "output_type": "stream",
     "text": [
      "Correct price:  [1.028852998323]\n"
     ]
    },
    {
     "name": "stderr",
     "output_type": "stream",
     "text": [
      "C:\\Users\\PC-Tommaso\\AppData\\Local\\Temp\\ipykernel_8176\\379698048.py:20: DeprecationWarning: Conversion of an array with ndim > 0 to a scalar is deprecated, and will error in future. Ensure you extract a single element from your array before performing this operation. (Deprecated NumPy 1.25.)\n",
      "  zero_rates[i] = -np.log(B) / t\n"
     ]
    }
   ],
   "source": [
    "# Case Study 3: Pricing in presence of counterparty risk\n",
    "\n",
    "# Model parameters\n",
    "sigma = 0.25\n",
    "notional = 50_000_000  # €50 million\n",
    "S0 = 2.5\n",
    "time_horizon = 5\n",
    "n_sim = 100_000\n",
    "valuation_date = pd.Timestamp('2023-01-31')\n",
    "\n",
    "# Payment dates (annual)\n",
    "payment_dates = [business_date_offset(valuation_date, year_offset=i)\n",
    "                for i in range(1, 6)]\n",
    "# Calculate zero rates\n",
    "zero_rates = np.zeros(len(payment_dates))\n",
    "for i, date in enumerate(payment_dates):\n",
    "    B = get_discount_factor_by_zero_rates_linear_interp(\n",
    "        valuation_date, date, dates, discounts)\n",
    "    t = year_frac_act_xNEW(valuation_date, date, 365)\n",
    "    zero_rates[i] = -np.log(B) / t\n",
    "\n",
    "\n",
    "# Survival probabilities (from Lab 3)\n",
    "surv_prob = np.array([\n",
    "    1.000000000000000,  # t=0\n",
    "    0.993377483443709,  # t=1\n",
    "    0.985507724320903,  # t=2\n",
    "    0.976784788831319,  # t=3\n",
    "    0.967841243412113,  # t=4\n",
    "    0.958297761759215   # t=5\n",
    "])\n",
    "\n",
    "# Discount factors\n",
    "discount_factors = np.array([\n",
    "    get_discount_factor_by_zero_rates_linear_interp(\n",
    "        valuation_date, date, dates, discounts)\n",
    "    for date in payment_dates\n",
    "])\n",
    "\n",
    "# Monte Carlo simulation\n",
    "np.random.seed(5)\n",
    "Z = np.random.normal(size=(n_sim, 5))  # 5 years of shocks\n",
    "\n",
    "# Path-dependent simulation\n",
    "S = np.zeros((n_sim, 5))\n",
    "S[:, 0] = S0 * np.exp(\n",
    "    (zero_rates[0] - 0.5*sigma**2)*1 +\n",
    "    sigma*np.sqrt(1)*Z[:, 0]\n",
    ")\n",
    "\n",
    "for y in range(1, 5):\n",
    "    S[:, y] = S[:, y-1] * np.exp(\n",
    "        (zero_rates[y] - 0.5*sigma**2)*1 +\n",
    "        sigma*np.sqrt(1)*Z[:, y]\n",
    "    )\n",
    "\n",
    "# Calculate payoffs: [S_{i-1} - S_i]+\n",
    "S_prev = np.hstack([np.full((n_sim, 1), S0), S[:, :-1]])\n",
    "payoffs = np.maximum(S_prev - S, 0)  # Shapes: (100000,5) - (100000,5)\n",
    "\n",
    "# Price calculation\n",
    "expected_payoffs = payoffs.mean(axis=0)\n",
    "#price =  np.sum(expected_payoffs * discount_factors * survival_probs[1:6])\n",
    "\n",
    "price=sum(expected_payoffs[i]*discount_factors[i]*surv_prob[i+1] for i in range(time_horizon))\n",
    "print(\"Correct price: \", price)"
   ]
  },
  {
   "cell_type": "code",
   "execution_count": null,
   "metadata": {},
   "outputs": [
    {
     "name": "stdout",
     "output_type": "stream",
     "text": [
      "ISP Price: [1.053948259811]\n"
     ]
    }
   ],
   "source": [
    "# Defines the survival probability array (all set to 1.0 in this example)\n",
    "ISP_price = price=sum(expected_payoffs[i]*discount_factors[i]*1 for i in range(time_horizon))\n",
    "print(\"ISP Price:\", ISP_price)\n"
   ]
  }
 ],
 "metadata": {
  "kernelspec": {
   "display_name": "base",
   "language": "python",
   "name": "python3"
  },
  "language_info": {
   "codemirror_mode": {
    "name": "ipython",
    "version": 3
   },
   "file_extension": ".py",
   "mimetype": "text/x-python",
   "name": "python",
   "nbconvert_exporter": "python",
   "pygments_lexer": "ipython3",
   "version": "3.12.7"
  }
 },
 "nbformat": 4,
 "nbformat_minor": 2
}
